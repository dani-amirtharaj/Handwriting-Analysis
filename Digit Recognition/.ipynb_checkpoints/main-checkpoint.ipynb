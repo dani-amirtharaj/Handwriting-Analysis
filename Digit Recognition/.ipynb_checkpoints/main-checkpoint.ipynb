{
 "cells": [
  {
   "cell_type": "code",
   "execution_count": 9,
   "metadata": {},
   "outputs": [],
   "source": [
    "# Used for unpickling byte stream of python objects on file system/disk\n",
    "import pickle\n",
    "# Used for decompressing .gzip files from file system/disk\n",
    "import gzip\n",
    "# Used for array operations\n",
    "import numpy as np"
   ]
  },
  {
   "cell_type": "markdown",
   "metadata": {},
   "source": [
    "## Load MNIST"
   ]
  },
  {
   "cell_type": "code",
   "execution_count": 10,
   "metadata": {},
   "outputs": [],
   "source": [
    "# Opening and decompressing .gzip file\n",
    "filename = 'mnist.pkl.gz'\n",
    "f = gzip.open(filename, 'rb')\n",
    "\n",
    "# Unpickling .pkl file saved as byte stream on disk to python objects\n",
    "trainingData, validationData, testingData = pickle.load(f, encoding='latin1')\n",
    "f.close()\n",
    "\n",
    "# Training feature vectors and training target extracted from trainingData (target represented using one-hot format)\n",
    "trainingTarget = np.array([1 if  trainingData[1][i] == t else 0  for i in range(len(trainingData[1])) for t in range(10)]).reshape(-1,10)\n",
    "trainingData = trainingData[0]\n",
    "\n",
    "# Validation feature vectors and validation target extracted from validationData\n",
    "validationTarget = validationData[1]\n",
    "validationData = validationData[0]\n",
    "\n",
    "# Testing feature vectors and testing target extracted from testingData \n",
    "testingTarget = testingData[1]\n",
    "testingData = testingData[0]"
   ]
  },
  {
   "cell_type": "markdown",
   "metadata": {},
   "source": [
    "## Load USPS"
   ]
  },
  {
   "cell_type": "code",
   "execution_count": 11,
   "metadata": {},
   "outputs": [],
   "source": [
    "# Used to open image in file system/disk\n",
    "from PIL import Image\n",
    "# Used to navigate to required directory in the file system\n",
    "import os\n",
    "# Used to convert image data to array\n",
    "import numpy as np"
   ]
  },
  {
   "cell_type": "code",
   "execution_count": 12,
   "metadata": {},
   "outputs": [],
   "source": [
    "USPSMat  = []\n",
    "USPSTar  = []\n",
    "curPath  = 'USPSdata/Numerals'\n",
    "savedImg = []\n",
    "\n",
    "# Navigate to the 10 folders containing images for 10 labels\n",
    "for j in range(0,10):\n",
    "    curFolderPath = curPath + '/' + str(j)\n",
    "    imgs =  os.listdir(curFolderPath)\n",
    "    for img in imgs:\n",
    "        curImg = curFolderPath + '/' + img\n",
    "        if curImg[-3:] == 'png':\n",
    "            \n",
    "            # Open image resize it, and save image array as well as labels in 2 lists\n",
    "            img = Image.open(curImg,'r')\n",
    "            img = img.resize((28, 28))\n",
    "            savedImg = img\n",
    "            imgdata = (255-np.array(img.getdata()))/255\n",
    "            USPSMat.append(imgdata)\n",
    "            USPSTar.append(j)"
   ]
  },
  {
   "cell_type": "markdown",
   "metadata": {},
   "source": [
    "# Logistic Regression"
   ]
  },
  {
   "cell_type": "code",
   "execution_count": 13,
   "metadata": {},
   "outputs": [],
   "source": [
    "# Used for performing kmeans clustering, while computing radial basis functions\n",
    "from sklearn.cluster import KMeans\n",
    "# Used when random functions are required\n",
    "import random as rd\n",
    "# Used for math operations\n",
    "import math\n",
    "# Used for array operations\n",
    "import numpy as np\n",
    "# Used for populating the confusion matrix\n",
    "from sklearn.metrics import confusion_matrix"
   ]
  },
  {
   "cell_type": "code",
   "execution_count": 14,
   "metadata": {},
   "outputs": [],
   "source": [
    "# Function to generate big sigma, which is a measure of how the input data spreads for each feature in the dataset\n",
    "def GenerateBigSigma(Data, MuMatrix,IsSynthetic = False):\n",
    "    \n",
    "    #  Create empty matrix of size (f,f) where f is number of features in dataset    \n",
    "    BigSigma    = np.zeros((len(Data[0]),len(Data[0])))\n",
    "       \n",
    "    # Ensures that variance is calculated only on 80% of input data used for training \n",
    "    TrainingLen = math.ceil(len(Data))   \n",
    "    varVect     = []\n",
    "    \n",
    "    # Calculate variance for each of 41 features\n",
    "    for i in range(0,len(Data[0])):\n",
    "        vct = []\n",
    "        for j in range(0,int(TrainingLen)):\n",
    "            vct.append(Data[j][i])    \n",
    "        varVect.append(np.var(vct))\n",
    "    \n",
    "    # The variances computed in the previous step are used to generate the (fxf) diagonal matrix big sigma\n",
    "    for j in range(len(Data[0])):\n",
    "        BigSigma[j][j] = varVect[j]\n",
    "        \n",
    "    # Value of big sigma multiplied with a large number to ensure its value stays significant\n",
    "    if IsSynthetic == True:\n",
    "        BigSigma = np.dot(3,BigSigma)\n",
    "    else:\n",
    "        BigSigma = np.dot(200,BigSigma)\n",
    "    ##print (\"BigSigma Generated..\")\n",
    "    return BigSigma\n",
    "\n",
    "# This function does (x-mu)*(sigma^-1)(s-mu), where x is a single row from the data set and mu is one of the M cluster centroids and sigma^-1 is matrix inverse of big sigma\n",
    "def GetScalar(DataRow,MuRow, BigSigInv):  \n",
    "    R = np.subtract(DataRow,MuRow)\n",
    "    T = np.dot(BigSigInv,np.transpose(R))  \n",
    "    L = np.dot(R,T)\n",
    "    return L\n",
    "\n",
    "# Function to get e^(-0.5X), where X is the scalar value returned from the GetScalar function\n",
    "def GetRadialBasisOut(DataRow,MuRow, BigSigInv):    \n",
    "    phi_x = math.exp(-0.5*GetScalar(DataRow,MuRow,BigSigInv))\n",
    "    return phi_x\n",
    "\n",
    "# Function to generate the phi matrix, the matrix representation of the values of radial basis functions of the input with M centroids,\n",
    "# which will be used to train the parameters in linear regression. RBFs are used to introduce non-linearity in the model.\n",
    "def GetPhiMatrix(Data, MuMatrix, BigSigma):\n",
    "    \n",
    "           \n",
    "    PHI = np.zeros((int(len(Data)),len(MuMatrix))) \n",
    "    \n",
    "    # Get matrix inverse of big sigma\n",
    "    BigSigInv = np.linalg.pinv(BigSigma)\n",
    "    \n",
    "    # Calculate value of the radial basis function for each sample in the input data set with each M centroid, for the big sigma calculated\n",
    "    for  C in range(0,len(MuMatrix)):\n",
    "        for R in range(0,int(len(Data))):\n",
    "            PHI[R][C] = GetRadialBasisOut(Data[R], MuMatrix[C], BigSigInv)\n",
    "    #print (\"PHI Generated..\")\n",
    "    return PHI\n",
    "\n",
    "# Function to compute performance of the logistic regression model for given training/validation/test predicted labels and their corresponding targets\n",
    "def GetErmsLogistic(VAL_TEST_OUT,ValDataAct):\n",
    "    \n",
    "    # Get label from one-hot representaion\n",
    "    VAL_TEST_OUT = np.argmax(VAL_TEST_OUT, axis =1)\n",
    "    ValDataAct = ValDataAct\n",
    "    sum = 0.0\n",
    "    t=0\n",
    "    accuracy = 0.0\n",
    "    counter = 0\n",
    "    val = 0.0\n",
    "    \n",
    "    # Computing accuracy by comparing test labels and predicted labels\n",
    "    for i in range (0,len(VAL_TEST_OUT)):\n",
    "        if(VAL_TEST_OUT[i] == ValDataAct[i]):\n",
    "            counter+=1\n",
    "    accuracy = (float((counter*100))/float(len(VAL_TEST_OUT)))\n",
    "    ##print (\"Accuracy Generated..\")\n",
    "    ##print (\"Validation E_RMS : \" + str(math.sqrt(sum/len(VAL_TEST_OUT))))\n",
    "    return (str(accuracy) + ',' +  str(math.sqrt(sum/len(VAL_TEST_OUT))))"
   ]
  },
  {
   "cell_type": "code",
   "execution_count": 15,
   "metadata": {},
   "outputs": [],
   "source": [
    "# Function to simulate both linear and logistic regression models given datasets and hyper-parameters\n",
    "def predictiveModel(mode, trainingData, trainingTarget, M=100, learningRate=0.001, La=0.005, BATCH_SIZE=1, EPOCHS=10):\n",
    "    \n",
    "    # If radial chosen, applies kmeans clustering, computes Mu and bigsigma to generate phi matrices\n",
    "    if mode == 'Radial':\n",
    "        kmeans = KMeans(n_clusters=M, random_state=0).fit(trainingData)\n",
    "        Mu = kmeans.cluster_centers_\n",
    "        BigSigma     = GenerateBigSigma(trainingData, Mu)\n",
    "        TRAINING_PHI = GetPhiMatrix(trainingData, Mu, BigSigma)\n",
    "        TEST_PHI     = GetPhiMatrix(testingData, Mu, BigSigma) \n",
    "        VAL_PHI      = GetPhiMatrix(validationData, Mu, BigSigma)\n",
    "\n",
    "    # If radial is not chosen, generates phi matrices by adding a feature of ones to the feature vectors to accomodate bias\n",
    "    else:\n",
    "        TRAINING_PHI = np.append(np.ones((len(trainingData), 1)),trainingData, axis=1)\n",
    "        TEST_PHI     = np.append(np.ones((len(testingData), 1)),testingData, axis=1)\n",
    "        VAL_PHI      = np.append(np.ones((len(validationData), 1)),validationData, axis=1)\n",
    "    \n",
    "    np.random.seed = 0\n",
    "    W_Now        = np.dot(np.random.rand(len(trainingData[0])+1,len(trainingTarget[0])),1)\n",
    "    L_Erms_Val   = []\n",
    "    L_Erms_TR    = []\n",
    "    L_Erms_Test  = []\n",
    "    \n",
    "    # Runs mini-batch gradient descent with BATCH_SIZE over EPOCHS epochs\n",
    "    for ep in range(EPOCHS):\n",
    "        randIdx = [x for x in range(len(trainingTarget))]\n",
    "        np.random.shuffle(randIdx)\n",
    "        TRAINING_PHI = TRAINING_PHI[randIdx]\n",
    "        trainingTarget = trainingTarget[randIdx]\n",
    "        \n",
    "        for start in range(0,int(len(trainingData)),BATCH_SIZE):\n",
    "            end = start+BATCH_SIZE\n",
    "            \n",
    "            # Computing gradient of cross entropy error function w.r.t weights and updating weights to minimize cross entropy error\n",
    "            expWTX = np.exp(np.matmul(TRAINING_PHI[start:end], W_Now))\n",
    "            Delta_E_D     = -np.matmul(np.transpose(TRAINING_PHI[start:end]),(trainingTarget[start:end] - (expWTX/np.sum(expWTX, axis = 1, keepdims = True))))\n",
    "            La_Delta_E_W  = np.dot(La,W_Now)\n",
    "            Delta_E       = np.add(Delta_E_D,La_Delta_E_W)    \n",
    "            Delta_W       = -np.dot(learningRate,Delta_E)\n",
    "            W_T_Next      = W_Now + Delta_W\n",
    "            W_Now         = W_T_Next\n",
    "            expWTX = np.exp(np.matmul(TRAINING_PHI, W_Now))\n",
    "            \n",
    "            # -----------------TrainingData Accuracy---------------------#\n",
    "            TR_TEST_OUT   = expWTX/np.sum(expWTX, axis = 1, keepdims = True)\n",
    "            Erms_TR       = GetErmsLogistic(TR_TEST_OUT,np.argmax(trainingTarget, axis=1))\n",
    "            L_Erms_TR.append(float(Erms_TR.split(',')[0]))\n",
    "\n",
    "    print ('--------------Gradient Descent----------------\\n')\n",
    "    expWTX = np.exp(np.matmul(VAL_PHI, W_Now))\n",
    "    #-----------------ValidationData Accuracy---------------------#\n",
    "    VAL_TEST_OUT  = expWTX/np.sum(expWTX, axis = 1, keepdims = True)\n",
    "    Erms_Val      = GetErmsLogistic(VAL_TEST_OUT,validationTarget)\n",
    "    L_Erms_Val.append(float(Erms_Val.split(',')[0]))\n",
    "\n",
    "    expWTX = np.exp(np.matmul(TEST_PHI, W_Now))\n",
    "    #-----------------MNIST TestingData Accuracy---------------------#\n",
    "    TEST_OUT      = expWTX/np.sum(expWTX, axis = 1, keepdims = True)\n",
    "    Erms_Test = GetErmsLogistic(TEST_OUT,testingTarget)\n",
    "    L_Erms_Test.append(float(Erms_Test.split(',')[0]))\n",
    "\n",
    "    expWTX = np.exp(np.matmul(np.append(np.ones((len(USPSMat), 1)),USPSMat, axis=1), W_Now))\n",
    "    #-----------------USPS TestingData Accuracy---------------------#\n",
    "    USPS_TEST_OUT      = expWTX/np.sum(expWTX, axis = 1, keepdims = True)\n",
    "    Erms_USPSTest = GetErmsLogistic(USPS_TEST_OUT,USPSTar)\n",
    "    \n",
    "    print (\"Training accuracy        = \" + str(np.around(L_Erms_TR[len(L_Erms_TR)-1],5)))\n",
    "    print (\"Validation accuracy      = \" + str(np.around(L_Erms_Val[len(L_Erms_Val)-1],5)))\n",
    "    print (\"Testing accuracy         = \" + str(np.around(L_Erms_Test[len(L_Erms_Test)-1],5)))\n",
    "    print (\"USPS Testing Accuracy    = \" + str(np.around(float(Erms_USPSTest.split(',')[0]))),\"\\n\")\n",
    "\n",
    "    return L_Erms_TR, np.argmax(TEST_OUT, axis=1), np.argmax(USPS_TEST_OUT, axis=1)"
   ]
  },
  {
   "cell_type": "code",
   "execution_count": 16,
   "metadata": {},
   "outputs": [
    {
     "name": "stdout",
     "output_type": "stream",
     "text": [
      "--------------Gradient Descent----------------\n",
      "\n",
      "Training accuracy        = 90.028\n",
      "Validation accuracy      = 90.51\n",
      "Testing accuracy         = 90.11\n",
      "USPS Testing Accuracy    = 33.0 \n",
      "\n",
      "\n",
      "MNIST Confusion Matrix: \n",
      "\n",
      " [[ 966    0    2    2    1    4    3    1    1    0]\n",
      " [   0 1114    2    2    1    3    3    1    9    0]\n",
      " [  16   14  915    9   19    0    6   14   36    3]\n",
      " [   4    2   22  898    5   39    1   11   21    7]\n",
      " [   2    3    3    0  942    0   10    1    8   13]\n",
      " [  13    3    7   35   21  764   12    5   29    3]\n",
      " [  19    3    8    2   32   20  869    2    3    0]\n",
      " [   3   16   29    5   18    1    0  938    1   17]\n",
      " [  10   13    6   18   25   34   10    9  845    4]\n",
      " [  14    8    0    8  170    7    0   34    8  760]]\n",
      "\n",
      "USPS Confusion Matrix: \n",
      "\n",
      " [[ 530   11  167   94  180  287  101  109  148  373]\n",
      " [ 131  336  197  224  400  104   20  430  133   25]\n",
      " [ 184   32 1170  140   66  173   69   78   59   28]\n",
      " [ 114   19  205 1102   37  341    6   90   58   28]\n",
      " [  32   94   41   69 1046  167   44  179  188  140]\n",
      " [ 152   26  185  195   66 1186   59   59   57   15]\n",
      " [ 249   22  468   88  134  444  507   27   22   39]\n",
      " [ 177  276  320  371   96  187   10  351  138   74]\n",
      " [ 231   65  178  248  148  713   71   48  219   79]\n",
      " [  35  199  117  469  202  119   11  411  246  191]]\n"
     ]
    }
   ],
   "source": [
    "# The commented section below was used to validate the logistic regression model using a grid search of the following hyper-parameters\n",
    "# lr_list = [0.1, 0.03, 0.01, 0.005]\n",
    "# lam_list = [0.3, 0.1, 0.03, 0.01]\n",
    "# batch_list = [20, 50, 100]\n",
    "\n",
    "# for learningRate in lr_list:\n",
    "#     for La in lam_list:\n",
    "#         for BATCH_SIZE in batch_list:\n",
    "#             print(\"\\nLearning rate: \", str(learningRate), \"Lambda: \", str(La), \"Batch size: \", str(BATCH_SIZE), \"\\n\\n\")\n",
    "#             training, logMNISTPrediction, logUSPSPrediction = predictiveModel(None, trainingData, trainingTarget, 100, learningRate, La, BATCH_SIZE, EPOCHS=1)\n",
    "\n",
    "# Training algorithm again on the best set of hyper-parameters (which give the best validation accuracy)\n",
    "# to get the best training accuracy\n",
    "training, logMNISTPrediction, logUSPSPrediction = predictiveModel(None, trainingData, trainingTarget, M=100, learningRate=0.01, La=0.01, BATCH_SIZE=20, EPOCHS=1)\n",
    "print(\"\\nMNIST Confusion Matrix: \\n\\n\",confusion_matrix(testingTarget, logMNISTPrediction))\n",
    "print(\"\\nUSPS Confusion Matrix: \\n\\n\",confusion_matrix(USPSTar, logUSPSPrediction))"
   ]
  },
  {
   "cell_type": "code",
   "execution_count": 18,
   "metadata": {},
   "outputs": [
    {
     "data": {
      "image/png": "[encoded data removed]",
      "text/plain": [
       "<Figure size 1656x576 with 1 Axes>"
      ]
     },
     "metadata": {},
     "output_type": "display_data"
    }
   ],
   "source": [
    "# The matplotlib package is used for plotting graphs\n",
    "import matplotlib\n",
    "import matplotlib.pyplot as plt \n",
    "# Outputs training accuracy for each iteration of gradient descent\n",
    "fig2, ax2=plt.subplots(figsize=(23,8))\n",
    "ax2.plot( training)\n",
    "ax2.set(xlabel='Number of Iterations', ylabel='Training Accuracy')\n",
    "ax2.grid()\n",
    "plt.show()"
   ]
  },
  {
   "cell_type": "markdown",
   "metadata": {},
   "source": [
    "# SVM"
   ]
  },
  {
   "cell_type": "code",
   "execution_count": 19,
   "metadata": {},
   "outputs": [],
   "source": [
    "import numpy as np\n",
    "from sklearn.svm import SVC"
   ]
  },
  {
   "cell_type": "code",
   "execution_count": 20,
   "metadata": {},
   "outputs": [
    {
     "data": {
      "text/plain": [
       "SVC(C=1.0, cache_size=200, class_weight=None, coef0=0.0,\n",
       "  decision_function_shape='ovr', degree=3, gamma='auto', kernel='rbf',\n",
       "  max_iter=-1, probability=False, random_state=None, shrinking=True,\n",
       "  tol=0.001, verbose=False)"
      ]
     },
     "execution_count": 20,
     "metadata": {},
     "output_type": "execute_result"
    }
   ],
   "source": [
    "# SVM classifier from scikit learn\n",
    "SVMclassifier = SVC(kernel='rbf')#, C=1, gamma = 0.05);\n",
    "# Picking 10,000 random samples from dataset\n",
    "randIdx = [x for x in range(len(trainingData))]\n",
    "np.random.shuffle(randIdx)\n",
    "SVMclassifier.fit(trainingData[randIdx[:10000]], np.argmax(trainingTarget[randIdx[:10000]], axis=1))"
   ]
  },
  {
   "cell_type": "code",
   "execution_count": 21,
   "metadata": {},
   "outputs": [
    {
     "name": "stdout",
     "output_type": "stream",
     "text": [
      "---------------SVM----------------\n",
      "\n",
      "Validation accuracy       =  92.71000000000001\n",
      "MNIST Testing accuracy    =  92.31\n",
      "USPS Testing accuracy     =  37.25186259312966 \n",
      "\n",
      "\n",
      "MNIST Confusion Matrix: \n",
      "\n",
      " [[ 961    0    1    0    1    6    7    1    3    0]\n",
      " [   0 1116    3    2    0    2    4    0    8    0]\n",
      " [  11    3  926   11   16    2   20   14   29    0]\n",
      " [   5    4   18  912    0   24    2   14   25    6]\n",
      " [   1    3    6    0  919    1    9    1    3   39]\n",
      " [   9    9    5   37    8  791   17    3    8    5]\n",
      " [  12    3    4    0    7   17  913    0    2    0]\n",
      " [   1   23   23    1   13    1    0  933    5   28]\n",
      " [   6    8   10   14   11   28   12   11  866    8]\n",
      " [  15    9    4   10   46    9    0   15    7  894]]\n",
      "\n",
      "USPS Confusion Matrix: \n",
      "\n",
      " [[ 586    3  422   19  358  240   78   37   14  243]\n",
      " [ 111  512  192  105  478  195   29  339   23   16]\n",
      " [ 174   33 1230   54   53  261   65   80   34   15]\n",
      " [  93    9  169  976   26  545   15  102   40   25]\n",
      " [  19  118   58   13 1201  281   13  146   75   76]\n",
      " [ 132   25  183   87   28 1404   65   54   15    7]\n",
      " [ 259   11  365   33  127  455  699   15   14   22]\n",
      " [  63  325  381  189  104  419   16  433   49   21]\n",
      " [  87   35  196  144  120 1011   86   38  260   23]\n",
      " [  40  221  231  217  275  173    8  474  212  149]]\n"
     ]
    }
   ],
   "source": [
    "svmValPrediction = SVMclassifier.predict(validationData)\n",
    "svmMNISTPrediction = SVMclassifier.predict(testingData)\n",
    "svmUSPSPrediction = SVMclassifier.predict(USPSMat)\n",
    "\n",
    "print ('---------------SVM----------------\\n')\n",
    "print('Validation accuracy       = ', np.mean(svmValPrediction == validationTarget)*100)\n",
    "print('MNIST Testing accuracy    = ', np.mean(svmMNISTPrediction == testingTarget)*100)\n",
    "print('USPS Testing accuracy     = ', np.mean(svmUSPSPrediction == USPSTar)*100,\"\\n\")\n",
    "print(\"\\nMNIST Confusion Matrix: \\n\\n\",confusion_matrix(testingTarget, svmMNISTPrediction))\n",
    "print(\"\\nUSPS Confusion Matrix: \\n\\n\",confusion_matrix(USPSTar, svmUSPSPrediction))"
   ]
  },
  {
   "cell_type": "markdown",
   "metadata": {},
   "source": [
    "# Random Forest"
   ]
  },
  {
   "cell_type": "code",
   "execution_count": 22,
   "metadata": {},
   "outputs": [],
   "source": [
    "import numpy as np\n",
    "from sklearn.ensemble import RandomForestClassifier"
   ]
  },
  {
   "cell_type": "code",
   "execution_count": 23,
   "metadata": {},
   "outputs": [
    {
     "data": {
      "text/plain": [
       "RandomForestClassifier(bootstrap=True, class_weight=None, criterion='gini',\n",
       "            max_depth=None, max_features='auto', max_leaf_nodes=None,\n",
       "            min_impurity_decrease=0.0, min_impurity_split=None,\n",
       "            min_samples_leaf=1, min_samples_split=2,\n",
       "            min_weight_fraction_leaf=0.0, n_estimators=200, n_jobs=-1,\n",
       "            oob_score=False, random_state=None, verbose=0,\n",
       "            warm_start=False)"
      ]
     },
     "execution_count": 23,
     "metadata": {},
     "output_type": "execute_result"
    }
   ],
   "source": [
    "#RandomForest Classifier from scikit learn\n",
    "RFclassifier = RandomForestClassifier(n_estimators=200, n_jobs=-1);\n",
    "\n",
    "# RFclassifier.fit(trainingData[randIdx[:10000]], np.argmax(trainingTarget[randIdx[:10000]], axis=1))\n",
    "RFclassifier.fit(trainingData, np.argmax(trainingTarget, axis=1))"
   ]
  },
  {
   "cell_type": "code",
   "execution_count": 24,
   "metadata": {},
   "outputs": [
    {
     "name": "stdout",
     "output_type": "stream",
     "text": [
      "---------------Random Forest----------------\n",
      "\n",
      "Validation accuracy    =  97.24000000000001\n",
      "MNIST Testing accuracy =  97.04\n",
      "USPS Testing accuracy  =  40.08700435021751 \n",
      "\n",
      "\n",
      "MNIST Confusion Matrix: \n",
      "\n",
      " [[ 970    0    0    0    0    2    3    1    3    1]\n",
      " [   0 1121    3    3    1    2    2    1    2    0]\n",
      " [   6    0 1000    5    2    0    3    9    7    0]\n",
      " [   0    0    9  975    0    7    0    9    8    2]\n",
      " [   1    0    1    0  953    0    5    0    2   20]\n",
      " [   2    0    1   12    3  861    4    1    5    3]\n",
      " [   6    3    0    0    2    3  940    0    4    0]\n",
      " [   1    3   17    2    2    0    0  990    3   10]\n",
      " [   3    0    6    7    4    6    3    5  931    9]\n",
      " [   5    5    2   11   10    2    1    4    6  963]]\n",
      "\n",
      "USPS Confusion Matrix: \n",
      "\n",
      " [[ 643   11  262   60  435  163   80  107    1  238]\n",
      " [  58  591  118  102   57   85   22  950   17    0]\n",
      " [  99   26 1287   78   49  186   23  244    5    2]\n",
      " [  36    6   92 1274   54  350    4  166    4   14]\n",
      " [  12  216   57   27 1049  196   12  387   24   20]\n",
      " [ 142   31  125   71   20 1461   25  112    5    8]\n",
      " [ 300   48  222   28  101  366  788  130    5   12]\n",
      " [  48  346  375  274   39  221   30  656    3    8]\n",
      " [  43   44  158  216  101 1092   65  103  161   17]\n",
      " [  18  282  233  318  236  126   12  589   79  107]]\n"
     ]
    }
   ],
   "source": [
    "rfValPrediction = RFclassifier.predict(validationData)\n",
    "rfMNISTPrediction = RFclassifier.predict(testingData)\n",
    "rfUSPSPrediction = RFclassifier.predict(USPSMat)\n",
    "\n",
    "print ('---------------Random Forest----------------\\n')\n",
    "print('Validation accuracy    = ', np.mean(rfValPrediction == validationTarget)*100)\n",
    "print('MNIST Testing accuracy = ', np.mean(rfMNISTPrediction == testingTarget)*100)\n",
    "print('USPS Testing accuracy  = ', np.mean(rfUSPSPrediction == USPSTar)*100,\"\\n\")\n",
    "print(\"\\nMNIST Confusion Matrix: \\n\\n\",confusion_matrix(testingTarget, rfMNISTPrediction))\n",
    "print(\"\\nUSPS Confusion Matrix: \\n\\n\",confusion_matrix(USPSTar, rfUSPSPrediction))"
   ]
  },
  {
   "cell_type": "markdown",
   "metadata": {},
   "source": [
    "# Neural Network"
   ]
  },
  {
   "cell_type": "code",
   "execution_count": 25,
   "metadata": {},
   "outputs": [
    {
     "name": "stderr",
     "output_type": "stream",
     "text": [
      "C:\\Users\\Dan\\Anaconda3\\lib\\site-packages\\h5py\\__init__.py:36: FutureWarning: Conversion of the second argument of issubdtype from `float` to `np.floating` is deprecated. In future, it will be treated as `np.float64 == np.dtype(float).type`.\n",
      "  from ._conv import register_converters as _register_converters\n",
      "Using TensorFlow backend.\n"
     ]
    }
   ],
   "source": [
    "import keras\n",
    "from keras.datasets import mnist\n",
    "from keras.layers import Dense\n",
    "from keras.models import Sequential\n",
    "from keras.layers import Conv2D, MaxPooling2D, Dropout, Flatten"
   ]
  },
  {
   "cell_type": "code",
   "execution_count": 26,
   "metadata": {},
   "outputs": [],
   "source": [
    "#DNN\n",
    "num_classes = len(trainingTarget[0])\n",
    "DNNclassifier = Sequential()\n",
    "DNNclassifier.add(Dense(units=200, activation='relu', input_shape=(len(trainingData[0]),)))\n",
    "DNNclassifier.add(Dropout(0.2))\n",
    "DNNclassifier.add(Dense(units=200, activation='relu'))\n",
    "DNNclassifier.add(Dropout(0.2))\n",
    "# DNNclassifier.add(Dense(units=200, activation='relu'))\n",
    "# DNNclassifier.add(Dropout(0.2))\n",
    "DNNclassifier.add(Dense(units=num_classes, activation='softmax'))\n",
    "DNNclassifier.compile(optimizer='Adamax', loss='categorical_crossentropy',metrics=['accuracy'])\n",
    "history = DNNclassifier.fit(trainingData, trainingTarget, batch_size=128, epochs=100,\n",
    "verbose=False,validation_data=(validationData, keras.utils.to_categorical(validationTarget, num_classes)))"
   ]
  },
  {
   "cell_type": "code",
   "execution_count": 27,
   "metadata": {},
   "outputs": [
    {
     "name": "stdout",
     "output_type": "stream",
     "text": [
      "---------------DNN----------------\n",
      "\n",
      "Validation accuracy    =  98.32\n",
      "MNIST Testing accuracy =  98.29\n",
      "USPS Testing accuracy  =  47.88239411940795 \"\n",
      "\"\n",
      "\n",
      "MNIST Confusion Matrix: \n",
      "\n",
      " [[ 970    0    1    0    0    1    3    1    3    1]\n",
      " [   0 1126    0    1    0    1    2    0    5    0]\n",
      " [   0    1 1016    5    2    0    0    6    2    0]\n",
      " [   0    0    2  993    0    7    0    5    1    2]\n",
      " [   0    1    1    0  964    0    4    2    0   10]\n",
      " [   1    0    0    3    1  877    5    1    2    2]\n",
      " [   5    2    1    1    3    4  941    0    1    0]\n",
      " [   1    3   10    3    1    0    0 1005    2    3]\n",
      " [   4    0    2    4    3    1    0    4  953    3]\n",
      " [   2    4    0    2    8    1    0    5    3  984]]\n",
      "\n",
      "USPS Confusion Matrix: \n",
      "\n",
      " [[ 520    2  131   62  153  201  326  236   69  300]\n",
      " [  17  439  487  111  292   95   26  382   92   59]\n",
      " [  20   12 1555   61   21   96  134   52   46    2]\n",
      " [   8    7  195 1425    4  263   27   38   25    8]\n",
      " [   7   25   66   18 1156  111   45  343  186   43]\n",
      " [  33    1  194  105   14 1373  125   49   97    9]\n",
      " [  58    3  335   24   47  105 1269   45   30   84]\n",
      " [  20   92  225  442   27   29   35  951  170    9]\n",
      " [ 171    3  195  305   58  257  212  156  620   23]\n",
      " [   8   25  112  288  148   22   14  844  271  268]]\n"
     ]
    }
   ],
   "source": [
    "loss,valAccuracy = DNNclassifier.evaluate(validationData, keras.utils.to_categorical(validationTarget, num_classes), verbose=False)\n",
    "loss,testAccuracy = DNNclassifier.evaluate(testingData, keras.utils.to_categorical(testingTarget, num_classes), verbose=False)\n",
    "loss,testUSPSAccuracy = DNNclassifier.evaluate(np.array(USPSMat), keras.utils.to_categorical(USPSTar, num_classes), verbose=False)\n",
    "dnnMNISTPrediction = np.argmax(DNNclassifier.predict(testingData), axis=1)\n",
    "dnnUSPSPrediction = np.argmax(DNNclassifier.predict(np.array(USPSMat)), axis=1)\n",
    "\n",
    "print ('---------------DNN----------------\\n')\n",
    "print('Validation accuracy    = ', valAccuracy*100)\n",
    "print('MNIST Testing accuracy = ', testAccuracy*100)\n",
    "print('USPS Testing accuracy  = ', testUSPSAccuracy*100,'\"\\n\"')\n",
    "print(\"\\nMNIST Confusion Matrix: \\n\\n\",confusion_matrix(testingTarget, dnnMNISTPrediction))\n",
    "print(\"\\nUSPS Confusion Matrix: \\n\\n\",confusion_matrix(USPSTar, dnnUSPSPrediction))"
   ]
  },
  {
   "cell_type": "code",
   "execution_count": 28,
   "metadata": {},
   "outputs": [
    {
     "data": {
      "image/png": "[encoded data removed]",
      "text/plain": [
       "<Figure size 1656x576 with 1 Axes>"
      ]
     },
     "metadata": {},
     "output_type": "display_data"
    }
   ],
   "source": [
    "# The matplotlib package is used for plotting graphs\n",
    "import matplotlib\n",
    "import matplotlib.pyplot as plt \n",
    "# Outputs training accuracy and loss against epochs\n",
    "fig2, ax2=plt.subplots(figsize=(23,8))\n",
    "ax2.plot(history.history['acc'])\n",
    "ax2.set(xlabel='Number of Epochs', ylabel='Training Accuracy')\n",
    "ax2.grid()\n",
    "plt.show()"
   ]
  },
  {
   "cell_type": "code",
   "execution_count": 29,
   "metadata": {},
   "outputs": [
    {
     "name": "stdout",
     "output_type": "stream",
     "text": [
      "Train on 50000 samples, validate on 10000 samples\n",
      "Epoch 1/10\n",
      "50000/50000 [==============================] - 44s 884us/step - loss: 0.3622 - acc: 0.8868 - val_loss: 0.0953 - val_acc: 0.9718\n",
      "Epoch 2/10\n",
      "50000/50000 [==============================] - 41s 820us/step - loss: 0.1075 - acc: 0.9668 - val_loss: 0.0609 - val_acc: 0.9826\n",
      "Epoch 3/10\n",
      "50000/50000 [==============================] - 38s 762us/step - loss: 0.0757 - acc: 0.9766 - val_loss: 0.0517 - val_acc: 0.9850\n",
      "Epoch 4/10\n",
      "50000/50000 [==============================] - 39s 771us/step - loss: 0.0589 - acc: 0.9819 - val_loss: 0.0455 - val_acc: 0.9869\n",
      "Epoch 5/10\n",
      "50000/50000 [==============================] - 39s 786us/step - loss: 0.0501 - acc: 0.9843 - val_loss: 0.0426 - val_acc: 0.9883\n",
      "Epoch 6/10\n",
      "50000/50000 [==============================] - 40s 794us/step - loss: 0.0423 - acc: 0.9871 - val_loss: 0.0453 - val_acc: 0.9867\n",
      "Epoch 7/10\n",
      "50000/50000 [==============================] - 40s 810us/step - loss: 0.0373 - acc: 0.9884 - val_loss: 0.0390 - val_acc: 0.9894\n",
      "Epoch 8/10\n",
      "50000/50000 [==============================] - 41s 829us/step - loss: 0.0315 - acc: 0.9904 - val_loss: 0.0418 - val_acc: 0.9882\n",
      "Epoch 9/10\n",
      "50000/50000 [==============================] - 44s 888us/step - loss: 0.0292 - acc: 0.9909 - val_loss: 0.0356 - val_acc: 0.9897\n",
      "Epoch 10/10\n",
      "50000/50000 [==============================] - 41s 825us/step - loss: 0.0262 - acc: 0.9921 - val_loss: 0.0351 - val_acc: 0.9897s - loss: 0.0259 - a\n"
     ]
    }
   ],
   "source": [
    "#CNN\n",
    "CNNclassifier = Sequential()\n",
    "CNNclassifier.add(Conv2D(20, kernel_size=(3, 3), activation='relu', input_shape=(28,28,1)))\n",
    "CNNclassifier.add(MaxPooling2D(pool_size=(2, 2)))\n",
    "CNNclassifier.add(Conv2D(20, (3, 3), activation='relu'))\n",
    "CNNclassifier.add(MaxPooling2D(pool_size=(2, 2)))\n",
    "CNNclassifier.add(Flatten())\n",
    "CNNclassifier.add(Dense(units=200, activation='relu'))\n",
    "CNNclassifier.add(Dropout(0.2))\n",
    "CNNclassifier.add(Dense(units=200, activation='relu'))\n",
    "CNNclassifier.add(Dropout(0.2))\n",
    "CNNclassifier.add(Dense(units=num_classes, activation='softmax'))\n",
    "CNNclassifier.compile(optimizer='Adamax', loss='categorical_crossentropy',metrics=['accuracy'])\n",
    "history = CNNclassifier.fit(trainingData.reshape(-1, 28, 28, 1), trainingTarget, batch_size=128, epochs=10,\n",
    "verbose=True,validation_data=(validationData.reshape(-1, 28, 28, 1), keras.utils.to_categorical(validationTarget, num_classes)))"
   ]
  },
  {
   "cell_type": "code",
   "execution_count": 30,
   "metadata": {},
   "outputs": [
    {
     "name": "stdout",
     "output_type": "stream",
     "text": [
      "---------------CNN----------------\n",
      "\n",
      "Validation accuracy    =  98.97\n",
      "MNIST Testing accuracy =  99.1\n",
      "USPS Testing accuracy  =  64.48322415971786 \n",
      "\n",
      "\n",
      "MNIST Confusion Matrix: \n",
      "\n",
      " [[ 976    0    0    0    0    0    1    1    2    0]\n",
      " [   0 1133    1    0    0    0    1    0    0    0]\n",
      " [   2    1 1023    1    1    0    0    4    0    0]\n",
      " [   0    0    2 1003    0    3    0    0    2    0]\n",
      " [   0    0    0    0  978    0    0    0    1    3]\n",
      " [   2    0    1    6    0  880    1    0    2    0]\n",
      " [   4    2    0    0    4    3  944    0    1    0]\n",
      " [   0    4    4    1    0    0    0 1018    1    0]\n",
      " [   1    0    1    1    0    0    0    1  969    1]\n",
      " [   1    3    0    1    5    3    0    4    6  986]]\n",
      "\n",
      "USPS Confusion Matrix: \n",
      "\n",
      " [[ 661    2   59   21  359   12   83   13   77  713]\n",
      " [ 102  955   57   33  651   11   38  105   30   18]\n",
      " [  39   12 1671   85   27   45   30   18   67    5]\n",
      " [   2    3   35 1781    2  134    2    9   30    2]\n",
      " [   1   56   10    8 1501    9    2  227  178    8]\n",
      " [   5    3   31   69    7 1801    3   25   37   19]\n",
      " [  46   12  116    4   60   30 1636    1   87    8]\n",
      " [   3   48  238  369   21   11    0 1259   47    4]\n",
      " [   9   14   49  210   42  433   18  109 1051   65]\n",
      " [   0   41   41  191  203   19    0  526  399  580]]\n"
     ]
    }
   ],
   "source": [
    "loss,valAccuracy = CNNclassifier.evaluate(validationData.reshape(-1, 28, 28, 1), keras.utils.to_categorical(validationTarget, num_classes), verbose=False)\n",
    "loss,testAccuracy = CNNclassifier.evaluate(testingData.reshape(-1, 28, 28, 1), keras.utils.to_categorical(testingTarget, num_classes), verbose=False)\n",
    "loss,testUSPSAccuracy = CNNclassifier.evaluate(np.array(USPSMat).reshape(-1, 28, 28, 1), keras.utils.to_categorical(USPSTar, num_classes), verbose=False)\n",
    "cnnMNISTPrediction = np.argmax(CNNclassifier.predict(testingData.reshape(-1, 28, 28, 1)), axis=1)\n",
    "cnnUSPSPrediction = np.argmax(CNNclassifier.predict(np.array(USPSMat).reshape(-1, 28, 28, 1)), axis=1)\n",
    "\n",
    "print ('---------------CNN----------------\\n')\n",
    "print('Validation accuracy    = ', valAccuracy*100)\n",
    "print('MNIST Testing accuracy = ', testAccuracy*100)\n",
    "print('USPS Testing accuracy  = ', testUSPSAccuracy*100,\"\\n\")\n",
    "print(\"\\nMNIST Confusion Matrix: \\n\\n\",confusion_matrix(testingTarget, cnnMNISTPrediction))\n",
    "print(\"\\nUSPS Confusion Matrix: \\n\\n\",confusion_matrix(USPSTar, cnnUSPSPrediction))"
   ]
  },
  {
   "cell_type": "code",
   "execution_count": 31,
   "metadata": {},
   "outputs": [
    {
     "data": {
      "image/png": "[encoded data removed]",
      "text/plain": [
       "<Figure size 1656x576 with 1 Axes>"
      ]
     },
     "metadata": {},
     "output_type": "display_data"
    }
   ],
   "source": [
    "# The matplotlib package is used for plotting graphs\n",
    "import matplotlib\n",
    "import matplotlib.pyplot as plt \n",
    "# Outputs training accuracy and loss against epochs\n",
    "fig2, ax2=plt.subplots(figsize=(23,8))\n",
    "ax2.plot(history.history['acc'])\n",
    "ax2.set(xlabel='Number of Epochs', ylabel='Training Accuracy')\n",
    "ax2.grid()\n",
    "plt.show()"
   ]
  },
  {
   "cell_type": "markdown",
   "metadata": {},
   "source": [
    "# Ensemble classifier"
   ]
  },
  {
   "cell_type": "code",
   "execution_count": 34,
   "metadata": {},
   "outputs": [],
   "source": [
    "from scipy import stats\n",
    "# Appending all predictions into a single array\n",
    "appendedPredictions = np.append(np.append(np.append(logMNISTPrediction.reshape(len(testingTarget),1), \n",
    "                                                    svmMNISTPrediction.reshape(len(testingTarget),1), axis=1),\n",
    "                                          np.append(rfMNISTPrediction.reshape(len(testingTarget),1), \n",
    "                                                    dnnMNISTPrediction.reshape(len(testingTarget),1), axis=1),axis=1), \n",
    "                                cnnMNISTPrediction.reshape(len(testingTarget),1), axis=1)\n",
    "\n",
    "appendedUSPSPredictions = np.append(np.append(np.append(logUSPSPrediction.reshape(len(USPSTar),1), \n",
    "                                                    svmUSPSPrediction.reshape(len(USPSTar),1), axis=1),\n",
    "                                          np.append(rfUSPSPrediction.reshape(len(USPSTar),1), \n",
    "                                                    dnnUSPSPrediction.reshape(len(USPSTar),1), axis=1),axis=1), \n",
    "                                cnnUSPSPrediction.reshape(len(USPSTar),1), axis=1)"
   ]
  },
  {
   "cell_type": "code",
   "execution_count": 35,
   "metadata": {},
   "outputs": [
    {
     "name": "stdout",
     "output_type": "stream",
     "text": [
      "Ensemble MNIST Accuracy =  97.52\n",
      "Ensemble USPS Accuracy  =  46.31231561578079\n",
      "\n",
      "MNIST Confusion Matrix: \n",
      "\n",
      " [[ 982    0    5    0    2    1    5    1    3    7]\n",
      " [   0 1133    0    1    0    0    2    5    2    2]\n",
      " [   1    1 1010    4    4    1    0   12    3    0]\n",
      " [   0    2    2  993    0    4    0    0    4   10]\n",
      " [   0    0    2    0  963    2    1    1    8   10]\n",
      " [   0    1    1    2    0  872    5    0    9    1]\n",
      " [   2    2    1    0    6    4  933    0    5    0]\n",
      " [   0    2    7    8    0    2    0 1004    3    1]\n",
      " [   1    2    4    4    2    2    1    0  942    2]\n",
      " [   0    0    0    1   11    1    0    5    5  957]]\n",
      "\n",
      "USPS Confusion Matrix: \n",
      "\n",
      " [[ 711   33  103   53   87  141  187   77   70   60]\n",
      " [   0  668   63  167   89   18    5  205  114   35]\n",
      " [  28  123 1806  247  160  100  248  215  247  212]\n",
      " [   6   51   70 1809  111   88   15  220  150  117]\n",
      " [   9   90   37   25 1869   26   62   82  133  266]\n",
      " [  39   90  112  286  169 2073  263  256  541  110]\n",
      " [  20    5   33    7   29   16  997    2   48   12]\n",
      " [  52   68   63  134  293   36   20 1196   59  125]\n",
      " [   1   18   10   26   21    5    2   29  614   40]\n",
      " [   2    0   10   17   45    2   13   10   27  445]]\n"
     ]
    }
   ],
   "source": [
    "# Computing mode of predictions of each classifier to get majority voting\n",
    "ensemblePrediction, freq = stats.mode(np.transpose(appendedPredictions))\n",
    "ensembleUSPSPrediction, freq = stats.mode(np.transpose(appendedUSPSPredictions))\n",
    "\n",
    "print(\"Ensemble MNIST Accuracy = \", np.mean(ensemblePrediction == testingTarget)*100)\n",
    "print(\"Ensemble USPS Accuracy  = \", np.mean(ensembleUSPSPrediction == np.array(USPSTar))*100)\n",
    "print(\"\\nMNIST Confusion Matrix: \\n\\n\",confusion_matrix(ensemblePrediction.flatten(), cnnMNISTPrediction))\n",
    "print(\"\\nUSPS Confusion Matrix: \\n\\n\",confusion_matrix(ensembleUSPSPrediction.flatten(), cnnUSPSPrediction))"
   ]
  }
 ],
 "metadata": {
  "kernelspec": {
   "display_name": "Python 3",
   "language": "python",
   "name": "python3"
  },
  "language_info": {
   "codemirror_mode": {
    "name": "ipython",
    "version": 3
   },
   "file_extension": ".py",
   "mimetype": "text/x-python",
   "name": "python",
   "nbconvert_exporter": "python",
   "pygments_lexer": "ipython3",
   "version": "3.6.5"
  }
 },
 "nbformat": 4,
 "nbformat_minor": 2
}
